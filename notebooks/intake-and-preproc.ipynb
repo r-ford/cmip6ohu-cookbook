{
 "cells": [
  {
   "cell_type": "markdown",
   "metadata": {},
   "source": [
    "<img src=\"images/ProjectPythia_Logo_Final-01-Blue.svg\" width=250 alt=\"Project Pythia Logo\"></img>\n",
    "<img src=\"https://intake.readthedocs.io/en/latest/_static/images/logo.png\" width=250 alt=\"Intake Logo\"></img>\n",
    "<img src=\"https://cmip6-preprocessing.readthedocs.io/en/latest/_images/logo.png\" width=250 alt=\"CMIP6 Preprocessing Logo\"></img>"
   ]
  },
  {
   "cell_type": "markdown",
   "metadata": {},
   "source": [
    "# Intake-ESM and CMIP6 Preprocessing"
   ]
  },
  {
   "cell_type": "markdown",
   "metadata": {
    "tags": []
   },
   "source": [
    "## Overview\n",
    "\n",
    "1. Use Intake-ESM to browse and load CMIP6 data\n",
    "1. Use CMIP6 Preprocessing to make analysis easier\n",
    "    1. Rename coordinates\n",
    "    1. Load and merge cell area data\n",
    "    1. Unify time across models (currently not working)"
   ]
  },
  {
   "cell_type": "markdown",
   "metadata": {
    "tags": []
   },
   "source": [
    "## Prerequisites\n",
    "\n",
    "| Concepts | Importance | Notes |\n",
    "| --- | --- | --- |\n",
    "| [Intro to Xarray](https://foundations.projectpythia.org/core/xarray/xarray-intro.html) | Necessary | |\n",
    "| [Understanding of NetCDF](https://foundations.projectpythia.org/core/data-formats/netcdf-cf.html) | Helpful | Familiarity with metadata structure |\n",
    "\n",
    "- **Time to learn**: 30 minutes"
   ]
  },
  {
   "cell_type": "markdown",
   "metadata": {
    "tags": []
   },
   "source": [
    "## Imports"
   ]
  },
  {
   "cell_type": "code",
   "execution_count": null,
   "metadata": {},
   "outputs": [],
   "source": [
    "import matplotlib.pyplot as plt\n",
    "import numpy as np\n",
    "import xarray as xr\n",
    "import xarrayutils as xru\n",
    "xr.set_options(display_style='html')\n",
    "import intake\n",
    "import dask\n",
    "\n",
    "%matplotlib inline\n",
    "%config InlineBackend.figure_format = 'retina'\n",
    "plt.rcParams['figure.figsize'] = 12, 6"
   ]
  },
  {
   "cell_type": "markdown",
   "metadata": {
    "tags": []
   },
   "source": [
    "## Using Intake-ESM to load CMIP6 data"
   ]
  },
  {
   "cell_type": "markdown",
   "metadata": {},
   "source": [
    "Intake-ESM is a package that aims to provide a higher-level interface to searching and loading Earth System Model data archives, such as CMIP. Here we are opening the `pangeo-cmip6.json` catalog of CMIP6 Zarr data that is stored in Pangeo's Google Storage."
   ]
  },
  {
   "cell_type": "code",
   "execution_count": null,
   "metadata": {},
   "outputs": [],
   "source": [
    "cat_url = \"https://storage.googleapis.com/cmip6/pangeo-cmip6.json\"\n",
    "col = intake.open_esm_datastore(cat_url)\n",
    "col"
   ]
  },
  {
   "cell_type": "markdown",
   "metadata": {},
   "source": [
    "Now we can search the catalog with `.search()`. For example, this returns the monthly average (Omon) downward heat flux at the ocean surface (hfds) for 1%/year CO2 ramp experiments (1pctCO2) on the model's native grid (gn) for models from a couple institutions, exported as a Pandas dataframe (`.df`)."
   ]
  },
  {
   "cell_type": "code",
   "execution_count": null,
   "metadata": {},
   "outputs": [],
   "source": [
    "cat = col.search(institution_id=['NCAR', 'MPI-M'], experiment_id='1pctCO2', member_id='r1i1p1f1', table_id='Omon', variable_id='hfds', grid_label='gn')\n",
    "cat.df"
   ]
  },
  {
   "cell_type": "code",
   "execution_count": null,
   "metadata": {},
   "outputs": [],
   "source": [
    "cat_test = col.search(experiment_id='1pctCO2', table_id='Omon', variable_id='hfds', grid_label='gn')\n",
    "cat_test.df"
   ]
  },
  {
   "cell_type": "markdown",
   "metadata": {},
   "source": [
    "Intake knows how to automatically open the datasets using Xarray, including the ability to merge them into a dictionary of datasets."
   ]
  },
  {
   "cell_type": "code",
   "execution_count": null,
   "metadata": {},
   "outputs": [],
   "source": [
    "dset_dict = cat.to_dataset_dict(zarr_kwargs={'consolidated': True})\n",
    "list(dset_dict.keys())"
   ]
  },
  {
   "cell_type": "markdown",
   "metadata": {},
   "source": [
    "We can then access one of the datasets with one of the keys listed above."
   ]
  },
  {
   "cell_type": "code",
   "execution_count": null,
   "metadata": {},
   "outputs": [],
   "source": [
    "cesm2 = dset_dict['CMIP.NCAR.CESM2.1pctCO2.Omon.gn']\n",
    "cesm2"
   ]
  },
  {
   "cell_type": "code",
   "execution_count": null,
   "metadata": {},
   "outputs": [],
   "source": [
    "cesm2.hfds.isel(time=0).plot()"
   ]
  },
  {
   "cell_type": "markdown",
   "metadata": {},
   "source": [
    "## CMIP6 Preprocessing"
   ]
  },
  {
   "cell_type": "markdown",
   "metadata": {
    "tags": []
   },
   "source": [
    "### Combined preprocessing"
   ]
  },
  {
   "cell_type": "markdown",
   "metadata": {},
   "source": [
    "While this provides easy access to the individual models, one problem with trying to do inter-model analysis is that the models are mostly on different grids and sometimes have inconsistent dimension and coordinate names. Here we will use the `combined_preprocessing` option from the `cmip6_preprocessing` package. For more details, see the [tutorial](https://cmip6-preprocessing.readthedocs.io/en/latest/tutorial.html) on the [CMIP6 Preprocessing website](https://cmip6-preprocessing.readthedocs.io/en/latest/index.html)."
   ]
  },
  {
   "cell_type": "code",
   "execution_count": null,
   "metadata": {},
   "outputs": [],
   "source": [
    "from cmip6_preprocessing.preprocessing import combined_preprocessing, replace_x_y_nominal_lat_lon"
   ]
  },
  {
   "cell_type": "markdown",
   "metadata": {},
   "source": [
    "Let's look at the same data as before, but with the additional `preprocess` argument."
   ]
  },
  {
   "cell_type": "code",
   "execution_count": null,
   "metadata": {},
   "outputs": [],
   "source": [
    "with dask.config.set(**{'array.slicing.split_large_chunks': True}):\n",
    "    preproc_dset_dict = cat.to_dataset_dict(zarr_kwargs={'consolidated': True, 'decode_times': True, 'use_cftime': True}, aggregate=False, preprocess=combined_preprocessing)"
   ]
  },
  {
   "cell_type": "markdown",
   "metadata": {},
   "source": [
    "Let's look at a couple Datasets to see what this preprocessing changed."
   ]
  },
  {
   "cell_type": "code",
   "execution_count": null,
   "metadata": {},
   "outputs": [],
   "source": [
    "dset_dict['CMIP.NCAR.CESM2.1pctCO2.Omon.gn']"
   ]
  },
  {
   "cell_type": "code",
   "execution_count": null,
   "metadata": {},
   "outputs": [],
   "source": [
    "preproc_dset_dict['CMIP.NCAR.CESM2.1pctCO2.r1i1p1f1.Omon.hfds.gn.gs://cmip6/CMIP6/CMIP/NCAR/CESM2/1pctCO2/r1i1p1f1/Omon/hfds/gn/v20190425/.nan.20190425']"
   ]
  },
  {
   "cell_type": "code",
   "execution_count": null,
   "metadata": {},
   "outputs": [],
   "source": [
    "dset_dict['CMIP.MPI-M.MPI-ESM1-2-LR.1pctCO2.Omon.gn']"
   ]
  },
  {
   "cell_type": "code",
   "execution_count": null,
   "metadata": {},
   "outputs": [],
   "source": [
    "preproc_dset_dict['CMIP.MPI-M.MPI-ESM1-2-LR.1pctCO2.r1i1p1f1.Omon.hfds.gn.gs://cmip6/CMIP6/CMIP/MPI-M/MPI-ESM1-2-LR/1pctCO2/r1i1p1f1/Omon/hfds/gn/v20190710/.nan.20190710']"
   ]
  },
  {
   "cell_type": "markdown",
   "metadata": {},
   "source": [
    "This modifies or adds various coordinates for consistency across models. You can see all of the included changes in the [`combined_preprocessing` documentation](https://cmip6-preprocessing.readthedocs.io/en/latest/_modules/cmip6_preprocessing/preprocessing.html#combined_preprocessing). In particular, the dimensions we will be using for averaging are now `x` and `y`. We can also use `replace_x_y_nominal_lat_lon` to change the values of `x` and `y` from cell indices to the actual lat/lon values."
   ]
  },
  {
   "cell_type": "markdown",
   "metadata": {
    "tags": []
   },
   "source": [
    "### Weighted averages\n",
    "\n",
    "In order to take averages of a variable over a region, we need the areas of the grid cells. We can use the provided `areacello` for this, and the process of loading this data is similar. We will also use the `match_metrics` function to add `areacello` for each Dataset we have been looking at."
   ]
  },
  {
   "cell_type": "code",
   "execution_count": null,
   "metadata": {},
   "outputs": [],
   "source": [
    "from cmip6_preprocessing.postprocessing import match_metrics"
   ]
  },
  {
   "cell_type": "code",
   "execution_count": null,
   "metadata": {},
   "outputs": [],
   "source": [
    "cat_area = col.search(institution_id=['NCAR', 'MPI-M'], experiment_id='1pctCO2', variable_id='areacello', grid_label='gn')\n",
    "cat_area.df"
   ]
  },
  {
   "cell_type": "code",
   "execution_count": null,
   "metadata": {},
   "outputs": [],
   "source": [
    "dset_dict_area = cat_area.to_dataset_dict(zarr_kwargs={'consolidated': True}, aggregate=False, preprocess=combined_preprocessing)\n",
    "list(dset_dict_area.keys())"
   ]
  },
  {
   "cell_type": "markdown",
   "metadata": {},
   "source": [
    "Here is one of the `areacello` Datasets:"
   ]
  },
  {
   "cell_type": "code",
   "execution_count": null,
   "metadata": {},
   "outputs": [],
   "source": [
    "dset_dict_area['CMIP.NCAR.CESM2.1pctCO2.r1i1p1f1.Ofx.areacello.gn.gs://cmip6/CMIP6/CMIP/NCAR/CESM2/1pctCO2/r1i1p1f1/Ofx/areacello/gn/v20190425/.nan.20190425']"
   ]
  },
  {
   "cell_type": "markdown",
   "metadata": {},
   "source": [
    "Now we combine the two dictionaries: one with `hfds` and one with `areacello`."
   ]
  },
  {
   "cell_type": "code",
   "execution_count": null,
   "metadata": {},
   "outputs": [],
   "source": [
    "dset_dict_matched = match_metrics(preproc_dset_dict, dset_dict_area, ['areacello'])"
   ]
  },
  {
   "cell_type": "markdown",
   "metadata": {},
   "source": [
    "This puts `areacello` under coordinates:"
   ]
  },
  {
   "cell_type": "code",
   "execution_count": null,
   "metadata": {},
   "outputs": [],
   "source": [
    "dset_dict_matched['CMIP.MPI-M.MPI-ESM1-2-HR.1pctCO2.r1i1p1f1.Omon.hfds.gn.gs://cmip6/CMIP6/CMIP/MPI-M/MPI-ESM1-2-HR/1pctCO2/r1i1p1f1/Omon/hfds/gn/v20190710/.nan.20190710']"
   ]
  },
  {
   "cell_type": "markdown",
   "metadata": {},
   "source": [
    "We can use this new dictionary to plot, for example, the weighted average `hfds` for one of the models over time."
   ]
  },
  {
   "cell_type": "code",
   "execution_count": null,
   "metadata": {},
   "outputs": [],
   "source": [
    "preproc_cesm2 = replace_x_y_nominal_lat_lon(dset_dict_matched['CMIP.NCAR.CESM2.1pctCO2.r1i1p1f1.Omon.hfds.gn.gs://cmip6/CMIP6/CMIP/NCAR/CESM2/1pctCO2/r1i1p1f1/Omon/hfds/gn/v20190425/.nan.20190425'])\n",
    "preproc_cesm2"
   ]
  },
  {
   "cell_type": "code",
   "execution_count": null,
   "metadata": {},
   "outputs": [],
   "source": [
    "cesm2_area = preproc_cesm2.areacello.fillna(0)"
   ]
  },
  {
   "cell_type": "markdown",
   "metadata": {},
   "source": [
    "Let's also compare to the unweighted version:"
   ]
  },
  {
   "cell_type": "code",
   "execution_count": null,
   "metadata": {},
   "outputs": [],
   "source": [
    "cesm2_mean_hfds = preproc_cesm2.hfds.weighted(cesm2_area).mean(['x', 'y'])\n",
    "cesm2_mean_hfds_unweighted = preproc_cesm2.hfds.mean(['x', 'y'])"
   ]
  },
  {
   "cell_type": "code",
   "execution_count": null,
   "metadata": {},
   "outputs": [],
   "source": [
    "cesm2_mean_hfds.plot()\n",
    "cesm2_mean_hfds_unweighted.plot()"
   ]
  },
  {
   "cell_type": "markdown",
   "metadata": {},
   "source": [
    "And with a nicer plot:"
   ]
  },
  {
   "cell_type": "code",
   "execution_count": null,
   "metadata": {},
   "outputs": [],
   "source": [
    "# fig1 = plt.figure(1, dpi=130)\n",
    "# ax = fig1.add_subplot(1, 1, 1)\n",
    "\n",
    "# ax.plot(cesm2_mean_hfds.time, cesm2_mean_hfds, '--', alpha=0.3, color='b')\n",
    "# ax.plot(cesm2_mean_hfds.time, cesm2_mean_hfds.rolling(time=12, center=True).mean(), color='b', label='Weighted (12MRM)')\n",
    "# ax.plot(cesm2_mean_hfds_unweighted.time, cesm2_mean_hfds_unweighted, '--', alpha=0.2, color='g')\n",
    "# ax.plot(cesm2_mean_hfds_unweighted.time, cesm2_mean_hfds_unweighted.rolling(time=12, center=True).mean(), color='g', label='Unweighted (12MRM)')\n",
    "\n",
    "# plt.xlabel('Time (year)')\n",
    "# plt.ylabel('hfds (W m$^{-2}$)')\n",
    "# plt.title('Global average downward heat flux at sea surface (CESM2, 1pctCO2)')\n",
    "# plt.grid()\n",
    "# plt.legend()"
   ]
  },
  {
   "cell_type": "markdown",
   "metadata": {
    "tags": []
   },
   "source": [
    "### Unifying time across models\n",
    "\n",
    "Note that CESM starts at year 1, while MPI-ESM starts at 1850. The starting year is arbitrary for the 1pctCO2 experiment (as well as others like abrupt-4xCO2), but if we try plotting a timeseries including both of these Datasets, they do not line up:"
   ]
  },
  {
   "cell_type": "code",
   "execution_count": null,
   "metadata": {},
   "outputs": [],
   "source": [
    "cesm2 = dset_dict_matched['CMIP.NCAR.CESM2.1pctCO2.r1i1p1f1.Omon.hfds.gn.gs://cmip6/CMIP6/CMIP/NCAR/CESM2/1pctCO2/r1i1p1f1/Omon/hfds/gn/v20190425/.nan.20190425']\n",
    "mpiesmlr = dset_dict_matched['CMIP.MPI-M.MPI-ESM1-2-LR.1pctCO2.r1i1p1f1.Omon.hfds.gn.gs://cmip6/CMIP6/CMIP/MPI-M/MPI-ESM1-2-LR/1pctCO2/r1i1p1f1/Omon/hfds/gn/v20190710/.nan.20190710']"
   ]
  },
  {
   "cell_type": "code",
   "execution_count": null,
   "metadata": {},
   "outputs": [],
   "source": [
    "cesm2"
   ]
  },
  {
   "cell_type": "code",
   "execution_count": null,
   "metadata": {},
   "outputs": [],
   "source": [
    "mpiesmlr"
   ]
  },
  {
   "cell_type": "code",
   "execution_count": null,
   "metadata": {},
   "outputs": [],
   "source": [
    "cesm2.hfds.weighted(cesm2.areacello.fillna(0)).mean(dim=['x', 'y']).plot()\n",
    "mpiesmlr.hfds.weighted(mpiesmlr.areacello.fillna(0)).mean(dim=['x', 'y']).plot()"
   ]
  },
  {
   "cell_type": "markdown",
   "metadata": {},
   "source": [
    "To fix this, we can use `unify_time` to make the years line up."
   ]
  },
  {
   "cell_type": "code",
   "execution_count": null,
   "metadata": {},
   "outputs": [],
   "source": [
    "from cmip6_preprocessing.drift_removal import unify_time, replace_time"
   ]
  },
  {
   "cell_type": "code",
   "execution_count": null,
   "metadata": {},
   "outputs": [],
   "source": [
    "unif_cesm2, unif_mpiesmlr = unify_time(cesm2, mpiesmlr)"
   ]
  },
  {
   "cell_type": "code",
   "execution_count": null,
   "metadata": {},
   "outputs": [],
   "source": [
    "unif_cesm2"
   ]
  },
  {
   "cell_type": "code",
   "execution_count": null,
   "metadata": {},
   "outputs": [],
   "source": [
    "unif_mpiesmlr"
   ]
  },
  {
   "cell_type": "code",
   "execution_count": null,
   "metadata": {},
   "outputs": [],
   "source": [
    "unif_cesm2.hfds.weighted(cesm2.areacello.fillna(0)).mean(dim=['x', 'y']).plot()\n",
    "unif_mpiesmlr.hfds.weighted(mpiesmlr.areacello.fillna(0)).mean(dim=['x', 'y']).plot()"
   ]
  },
  {
   "cell_type": "markdown",
   "metadata": {},
   "source": [
    "## Summary\n",
    "Add one final `---` marking the end of your body of content, and then conclude with a brief single paragraph summarizing at a high level the key pieces that were learned and how they tied to your objectives. Look to reiterate what the most important takeaways were.\n",
    "\n",
    "### What's next?\n",
    "Let Jupyter book tie this to the next (sequential) piece of content that people could move on to down below and in the sidebar. However, if this page uniquely enables your reader to tackle other nonsequential concepts throughout this book, or even external content, link to it here!"
   ]
  },
  {
   "cell_type": "markdown",
   "metadata": {},
   "source": [
    "## Resources and references\n",
    "Finally, be rigorous in your citations and references as necessary. Give credit where credit is due. Also, feel free to link to relevant external material, further reading, documentation, etc. Then you're done! Give yourself a quick review, a high five, and send us a pull request. A few final notes:\n",
    " - `Kernel > Restart Kernel and Run All Cells...` to confirm that your notebook will cleanly run from start to finish\n",
    " - `Kernel > Restart Kernel and Clear All Outputs...` before committing your notebook, our machines will do the heavy lifting\n",
    " - Take credit! Provide author contact information if you'd like; if so, consider adding information here at the bottom of your notebook\n",
    " - Give credit! Attribute appropriate authorship for referenced code, information, images, etc.\n",
    " - Only include what you're legally allowed: **no copyright infringement or plagiarism**\n",
    " \n",
    "Thank you for your contribution!"
   ]
  }
 ],
 "metadata": {
  "kernelspec": {
   "display_name": "Python 3",
   "language": "python",
   "name": "python3"
  },
  "language_info": {
   "codemirror_mode": {
    "name": "ipython",
    "version": 3
   },
   "file_extension": ".py",
   "mimetype": "text/x-python",
   "name": "python",
   "nbconvert_exporter": "python",
   "pygments_lexer": "ipython3",
   "version": "3.8.8"
  },
  "nbdime-conflicts": {
   "local_diff": [
    {
     "diff": [
      {
       "diff": [
        {
         "key": 0,
         "op": "addrange",
         "valuelist": [
          "Python 3"
         ]
        },
        {
         "key": 0,
         "length": 1,
         "op": "removerange"
        }
       ],
       "key": "display_name",
       "op": "patch"
      }
     ],
     "key": "kernelspec",
     "op": "patch"
    }
   ],
   "remote_diff": [
    {
     "diff": [
      {
       "diff": [
        {
         "key": 0,
         "op": "addrange",
         "valuelist": [
          "Python3"
         ]
        },
        {
         "key": 0,
         "length": 1,
         "op": "removerange"
        }
       ],
       "key": "display_name",
       "op": "patch"
      }
     ],
     "key": "kernelspec",
     "op": "patch"
    }
   ]
  },
  "toc-autonumbering": false
 },
 "nbformat": 4,
 "nbformat_minor": 4
}
